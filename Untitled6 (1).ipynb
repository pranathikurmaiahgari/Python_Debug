{
 "cells": [
  {
   "cell_type": "markdown",
   "id": "0b1825c6-62b0-4a92-9291-f0cf04c186a2",
   "metadata": {},
   "source": [
    "Objective: To identify and fix errors in a Python program that manipulates strings."
   ]
  },
  {
   "cell_type": "code",
   "execution_count": 4,
   "id": "b28d5d47-8e2c-47de-82d7-760e97ddc249",
   "metadata": {},
   "outputs": [
    {
     "name": "stdout",
     "output_type": "stream",
     "text": [
      "Reversed string: !dlrow ,olleH\n"
     ]
    }
   ],
   "source": [
    "def reverse_string(s):\n",
    "    #reversed is a python function.so it cant be used as variablename as it creates confusion.\n",
    "    reversedStr = \"\"\n",
    "    for i in range(len(s) - 1, -1, -1):\n",
    "        reversedStr += s[i]\n",
    "    return reversedStr\n",
    "def main():\n",
    "    input_string = \"Hello, world!\"\n",
    "    reversed_string = reverse_string(input_string)\n",
    "    print(f\"Reversed string: {reversed_string}\")\n",
    "if __name__ == \"__main__\":\n",
    "    main()"
   ]
  },
  {
   "cell_type": "markdown",
   "id": "f5c40ca2-6bc4-4340-9f18-3ceacd224bf7",
   "metadata": {},
   "source": [
    "Code2:\n",
    "Objective: To identify and fix errors in a Python program that validates user input."
   ]
  },
  {
   "cell_type": "code",
   "execution_count": 6,
   "id": "9a62b3f8-5e8c-4245-a98d-3f5139687fb4",
   "metadata": {},
   "outputs": [
    {
     "name": "stdin",
     "output_type": "stream",
     "text": [
      "Please enter your age:  32\n"
     ]
    },
    {
     "name": "stdout",
     "output_type": "stream",
     "text": [
      "You are 32 years old and eligible.\n"
     ]
    }
   ],
   "source": [
    "def get_age():\n",
    "    #changed age as ageStr to clarify that userinput is a string\n",
    "    ageStr = input(\"Please enter your age: \")\n",
    "    if ageStr.isnumeric():\n",
    "        age = int(ageStr)\n",
    "        #changed comparision of age as inner if statement to ensure that integer age is compared,not the user give string age.\n",
    "        if age >= 18:\n",
    "            return age\n",
    "    return None\n",
    "def main():\n",
    "    age = get_age()\n",
    "    if age:\n",
    "        print(f\"You are {age} years old and eligible.\")\n",
    "    else:\n",
    "        print(\"Invalid input. You must be at least 18 years old.\")\n",
    "if __name__ == \"__main__\":\n",
    "    main()"
   ]
  },
  {
   "cell_type": "markdown",
   "id": "3cbd7350-9702-4ba4-b788-5c68b2c1432b",
   "metadata": {},
   "source": [
    "Objective: To identify and fix errors in a Python program that reads and writes to a file.\n",
    "Code3:"
   ]
  },
  {
   "cell_type": "code",
   "execution_count": 9,
   "id": "a8897a58-ca61-49c6-9502-327c128e045f",
   "metadata": {},
   "outputs": [
    {
     "name": "stdout",
     "output_type": "stream",
     "text": [
      "File 'sample.txt' processed successfully.\n"
     ]
    }
   ],
   "source": [
    "def read_and_write_file(filename):\n",
    "    try:\n",
    "        with open(filename, 'r') as file:\n",
    "            content = file.read()\n",
    "        #when writing data into the file it is better to use append mode because write mode will overwrite the contents of the file which will result in data loss.\n",
    "        with open(filename, 'w') as file:\n",
    "            file.write(content.upper())\n",
    "        print(f\"File '{filename}' processed successfully.\")\n",
    "    except Exception as e:\n",
    "        print(f\"An error occurred: {str(e)}\")\n",
    "def main():\n",
    "    filename = \"sample.txt\"\n",
    "    read_and_write_file(filename)\n",
    "if __name__ == \"__main__\":\n",
    "    main()"
   ]
  },
  {
   "cell_type": "code",
   "execution_count": null,
   "id": "6f2449dc-3ef6-4ead-a5f1-b8bdb5e5d8e7",
   "metadata": {},
   "outputs": [],
   "source": []
  }
 ],
 "metadata": {
  "kernelspec": {
   "display_name": "Python 3 (ipykernel)",
   "language": "python",
   "name": "python3"
  },
  "language_info": {
   "codemirror_mode": {
    "name": "ipython",
    "version": 3
   },
   "file_extension": ".py",
   "mimetype": "text/x-python",
   "name": "python",
   "nbconvert_exporter": "python",
   "pygments_lexer": "ipython3",
   "version": "3.10.8"
  }
 },
 "nbformat": 4,
 "nbformat_minor": 5
}
